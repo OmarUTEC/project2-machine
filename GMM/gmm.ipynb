{
 "cells": [
  {
   "cell_type": "code",
   "execution_count": 1,
   "metadata": {},
   "outputs": [
    {
     "name": "stdout",
     "output_type": "stream",
     "text": [
      "                                                       0\n",
      "0      ,\"GSM11805.CEL.gz\",\"GSM11814.CEL.gz\",\"GSM11823...\n",
      "1      1007_s_at,10.1912666822211,10.5091673351314,10...\n",
      "2      1053_at,6.04046250272039,6.69607547976383,6.14...\n",
      "3      117_at,7.44740927631719,7.77535403522073,7.696...\n",
      "4      121_at,12.0250418580982,12.0078171043575,11.63...\n",
      "...                                                  ...\n",
      "22211  91703_at,6.43485083964546,7.6769887682576,6.42...\n",
      "22212  91816_f_at,5.70044827295955,6.56647865392162,5...\n",
      "22213  91826_at,9.21116303052509,9.41598030255139,8.1...\n",
      "22214  91920_at,8.33913007018526,8.21442605889894,8.4...\n",
      "22215  91952_at,7.36779705423511,7.9177537650076,7.59...\n",
      "\n",
      "[22216 rows x 1 columns]\n"
     ]
    }
   ],
   "source": [
    "import pandas as pd\n",
    "\n",
    "data = pd.read_csv('../db/dataset_tissue.txt', header=None, sep=' ')\n",
    "\n",
    "labels = pd.read_csv('../db/clase.txt', header=None)\n",
    "\n",
    "print(data)"
   ]
  },
  {
   "cell_type": "code",
   "execution_count": 3,
   "metadata": {},
   "outputs": [],
   "source": [
    "import pandas as pd\n",
    "from sklearn.decomposition import PCA\n",
    "from sklearn.preprocessing import MinMaxScaler  # Agregamos la importación\n",
    "\n",
    "skip_rows = 1  # omitir la primera fila\n",
    "data = pd.read_csv('../db/dataset_tissue.txt', skiprows=skip_rows, header=None, sep=',')  # Cambiar el separador a ','\n",
    "\n",
    "# Eliminar la primera columna que contiene identificadores de genes\n",
    "data = data.iloc[:, 1:]\n",
    "\n",
    "\n",
    "scaler = MinMaxScaler()\n",
    "\n",
    "# Aplicar la normalización Min-Max a tus datos\n",
    "normalized_data = scaler.fit_transform(data)\n",
    "\n",
    "# Especificar el número de componentes principales a retener\n",
    "n_components = 10\n",
    "\n",
    "# Crear una instancia de PCA con el número de componentes\n",
    "pca = PCA(n_components=n_components)\n",
    "\n",
    "# Ajustar y transformar los datos con PCA\n",
    "data_pca = pca.fit_transform(normalized_data)"
   ]
  },
  {
   "cell_type": "code",
   "execution_count": 15,
   "metadata": {},
   "outputs": [
    {
     "ename": "KeyboardInterrupt",
     "evalue": "",
     "output_type": "error",
     "traceback": [
      "\u001b[1;31m---------------------------------------------------------------------------\u001b[0m",
      "\u001b[1;31mKeyboardInterrupt\u001b[0m                         Traceback (most recent call last)",
      "\u001b[1;32mc:\\Users\\LENOVO\\OneDrive\\Escritorio\\Proyecto machine learning\\project2-machine\\GMM\\gmm.ipynb Cell 3\u001b[0m line \u001b[0;36m6\n\u001b[0;32m     <a href='vscode-notebook-cell:/c%3A/Users/LENOVO/OneDrive/Escritorio/Proyecto%20machine%20learning/project2-machine/GMM/gmm.ipynb#W2sZmlsZQ%3D%3D?line=62'>63</a>\u001b[0m d \u001b[39m=\u001b[39m \u001b[39m50\u001b[39m \u001b[39m# dimensiones tras PCA\u001b[39;00m\n\u001b[0;32m     <a href='vscode-notebook-cell:/c%3A/Users/LENOVO/OneDrive/Escritorio/Proyecto%20machine%20learning/project2-machine/GMM/gmm.ipynb#W2sZmlsZQ%3D%3D?line=63'>64</a>\u001b[0m gmm \u001b[39m=\u001b[39m GMM(\u001b[39m5\u001b[39m, d) \n\u001b[1;32m---> <a href='vscode-notebook-cell:/c%3A/Users/LENOVO/OneDrive/Escritorio/Proyecto%20machine%20learning/project2-machine/GMM/gmm.ipynb#W2sZmlsZQ%3D%3D?line=64'>65</a>\u001b[0m gmm\u001b[39m.\u001b[39;49mfit(data_pca)\n\u001b[0;32m     <a href='vscode-notebook-cell:/c%3A/Users/LENOVO/OneDrive/Escritorio/Proyecto%20machine%20learning/project2-machine/GMM/gmm.ipynb#W2sZmlsZQ%3D%3D?line=65'>66</a>\u001b[0m clusters \u001b[39m=\u001b[39m [gmm\u001b[39m.\u001b[39mpredict(point) \u001b[39mfor\u001b[39;00m point \u001b[39min\u001b[39;00m data_pca]\n",
      "\u001b[1;32mc:\\Users\\LENOVO\\OneDrive\\Escritorio\\Proyecto machine learning\\project2-machine\\GMM\\gmm.ipynb Cell 3\u001b[0m line \u001b[0;36m4\n\u001b[0;32m     <a href='vscode-notebook-cell:/c%3A/Users/LENOVO/OneDrive/Escritorio/Proyecto%20machine%20learning/project2-machine/GMM/gmm.ipynb#W2sZmlsZQ%3D%3D?line=36'>37</a>\u001b[0m N, d \u001b[39m=\u001b[39m data\u001b[39m.\u001b[39mshape\n\u001b[0;32m     <a href='vscode-notebook-cell:/c%3A/Users/LENOVO/OneDrive/Escritorio/Proyecto%20machine%20learning/project2-machine/GMM/gmm.ipynb#W2sZmlsZQ%3D%3D?line=38'>39</a>\u001b[0m \u001b[39mfor\u001b[39;00m _ \u001b[39min\u001b[39;00m \u001b[39mrange\u001b[39m(\u001b[39m10\u001b[39m):\n\u001b[1;32m---> <a href='vscode-notebook-cell:/c%3A/Users/LENOVO/OneDrive/Escritorio/Proyecto%20machine%20learning/project2-machine/GMM/gmm.ipynb#W2sZmlsZQ%3D%3D?line=39'>40</a>\u001b[0m     resp \u001b[39m=\u001b[39m [\u001b[39mself\u001b[39;49m\u001b[39m.\u001b[39;49m_e_step(point) \u001b[39mfor\u001b[39;49;00m point \u001b[39min\u001b[39;49;00m data]\n\u001b[0;32m     <a href='vscode-notebook-cell:/c%3A/Users/LENOVO/OneDrive/Escritorio/Proyecto%20machine%20learning/project2-machine/GMM/gmm.ipynb#W2sZmlsZQ%3D%3D?line=40'>41</a>\u001b[0m     \u001b[39mself\u001b[39m\u001b[39m.\u001b[39m_m_step(resp, data, N, d)\n",
      "\u001b[1;32mc:\\Users\\LENOVO\\OneDrive\\Escritorio\\Proyecto machine learning\\project2-machine\\GMM\\gmm.ipynb Cell 3\u001b[0m line \u001b[0;36m4\n\u001b[0;32m     <a href='vscode-notebook-cell:/c%3A/Users/LENOVO/OneDrive/Escritorio/Proyecto%20machine%20learning/project2-machine/GMM/gmm.ipynb#W2sZmlsZQ%3D%3D?line=36'>37</a>\u001b[0m N, d \u001b[39m=\u001b[39m data\u001b[39m.\u001b[39mshape\n\u001b[0;32m     <a href='vscode-notebook-cell:/c%3A/Users/LENOVO/OneDrive/Escritorio/Proyecto%20machine%20learning/project2-machine/GMM/gmm.ipynb#W2sZmlsZQ%3D%3D?line=38'>39</a>\u001b[0m \u001b[39mfor\u001b[39;00m _ \u001b[39min\u001b[39;00m \u001b[39mrange\u001b[39m(\u001b[39m10\u001b[39m):\n\u001b[1;32m---> <a href='vscode-notebook-cell:/c%3A/Users/LENOVO/OneDrive/Escritorio/Proyecto%20machine%20learning/project2-machine/GMM/gmm.ipynb#W2sZmlsZQ%3D%3D?line=39'>40</a>\u001b[0m     resp \u001b[39m=\u001b[39m [\u001b[39mself\u001b[39;49m\u001b[39m.\u001b[39;49m_e_step(point) \u001b[39mfor\u001b[39;00m point \u001b[39min\u001b[39;00m data]\n\u001b[0;32m     <a href='vscode-notebook-cell:/c%3A/Users/LENOVO/OneDrive/Escritorio/Proyecto%20machine%20learning/project2-machine/GMM/gmm.ipynb#W2sZmlsZQ%3D%3D?line=40'>41</a>\u001b[0m     \u001b[39mself\u001b[39m\u001b[39m.\u001b[39m_m_step(resp, data, N, d)\n",
      "\u001b[1;32mc:\\Users\\LENOVO\\OneDrive\\Escritorio\\Proyecto machine learning\\project2-machine\\GMM\\gmm.ipynb Cell 3\u001b[0m line \u001b[0;36m5\n\u001b[0;32m     <a href='vscode-notebook-cell:/c%3A/Users/LENOVO/OneDrive/Escritorio/Proyecto%20machine%20learning/project2-machine/GMM/gmm.ipynb#W2sZmlsZQ%3D%3D?line=47'>48</a>\u001b[0m scores \u001b[39m=\u001b[39m []\n\u001b[0;32m     <a href='vscode-notebook-cell:/c%3A/Users/LENOVO/OneDrive/Escritorio/Proyecto%20machine%20learning/project2-machine/GMM/gmm.ipynb#W2sZmlsZQ%3D%3D?line=48'>49</a>\u001b[0m \u001b[39mfor\u001b[39;00m point \u001b[39min\u001b[39;00m data:\n\u001b[1;32m---> <a href='vscode-notebook-cell:/c%3A/Users/LENOVO/OneDrive/Escritorio/Proyecto%20machine%20learning/project2-machine/GMM/gmm.ipynb#W2sZmlsZQ%3D%3D?line=49'>50</a>\u001b[0m     scores\u001b[39m.\u001b[39mappend([c\u001b[39m.\u001b[39;49mscore(point) \u001b[39mfor\u001b[39;49;00m c \u001b[39min\u001b[39;49;00m \u001b[39mself\u001b[39;49m\u001b[39m.\u001b[39;49mcomponents])\n\u001b[0;32m     <a href='vscode-notebook-cell:/c%3A/Users/LENOVO/OneDrive/Escritorio/Proyecto%20machine%20learning/project2-machine/GMM/gmm.ipynb#W2sZmlsZQ%3D%3D?line=50'>51</a>\u001b[0m total_scores \u001b[39m=\u001b[39m np\u001b[39m.\u001b[39msum(scores, axis\u001b[39m=\u001b[39m\u001b[39m1\u001b[39m)\n\u001b[0;32m     <a href='vscode-notebook-cell:/c%3A/Users/LENOVO/OneDrive/Escritorio/Proyecto%20machine%20learning/project2-machine/GMM/gmm.ipynb#W2sZmlsZQ%3D%3D?line=51'>52</a>\u001b[0m normalized_scores \u001b[39m=\u001b[39m [s \u001b[39m/\u001b[39m total \u001b[39mfor\u001b[39;00m s, total \u001b[39min\u001b[39;00m \u001b[39mzip\u001b[39m(scores, total_scores)]\n",
      "\u001b[1;32mc:\\Users\\LENOVO\\OneDrive\\Escritorio\\Proyecto machine learning\\project2-machine\\GMM\\gmm.ipynb Cell 3\u001b[0m line \u001b[0;36m5\n\u001b[0;32m     <a href='vscode-notebook-cell:/c%3A/Users/LENOVO/OneDrive/Escritorio/Proyecto%20machine%20learning/project2-machine/GMM/gmm.ipynb#W2sZmlsZQ%3D%3D?line=47'>48</a>\u001b[0m scores \u001b[39m=\u001b[39m []\n\u001b[0;32m     <a href='vscode-notebook-cell:/c%3A/Users/LENOVO/OneDrive/Escritorio/Proyecto%20machine%20learning/project2-machine/GMM/gmm.ipynb#W2sZmlsZQ%3D%3D?line=48'>49</a>\u001b[0m \u001b[39mfor\u001b[39;00m point \u001b[39min\u001b[39;00m data:\n\u001b[1;32m---> <a href='vscode-notebook-cell:/c%3A/Users/LENOVO/OneDrive/Escritorio/Proyecto%20machine%20learning/project2-machine/GMM/gmm.ipynb#W2sZmlsZQ%3D%3D?line=49'>50</a>\u001b[0m     scores\u001b[39m.\u001b[39mappend([c\u001b[39m.\u001b[39;49mscore(point) \u001b[39mfor\u001b[39;00m c \u001b[39min\u001b[39;00m \u001b[39mself\u001b[39m\u001b[39m.\u001b[39mcomponents])\n\u001b[0;32m     <a href='vscode-notebook-cell:/c%3A/Users/LENOVO/OneDrive/Escritorio/Proyecto%20machine%20learning/project2-machine/GMM/gmm.ipynb#W2sZmlsZQ%3D%3D?line=50'>51</a>\u001b[0m total_scores \u001b[39m=\u001b[39m np\u001b[39m.\u001b[39msum(scores, axis\u001b[39m=\u001b[39m\u001b[39m1\u001b[39m)\n\u001b[0;32m     <a href='vscode-notebook-cell:/c%3A/Users/LENOVO/OneDrive/Escritorio/Proyecto%20machine%20learning/project2-machine/GMM/gmm.ipynb#W2sZmlsZQ%3D%3D?line=51'>52</a>\u001b[0m normalized_scores \u001b[39m=\u001b[39m [s \u001b[39m/\u001b[39m total \u001b[39mfor\u001b[39;00m s, total \u001b[39min\u001b[39;00m \u001b[39mzip\u001b[39m(scores, total_scores)]\n",
      "\u001b[1;32mc:\\Users\\LENOVO\\OneDrive\\Escritorio\\Proyecto machine learning\\project2-machine\\GMM\\gmm.ipynb Cell 3\u001b[0m line \u001b[0;36m1\n\u001b[0;32m     <a href='vscode-notebook-cell:/c%3A/Users/LENOVO/OneDrive/Escritorio/Proyecto%20machine%20learning/project2-machine/GMM/gmm.ipynb#W2sZmlsZQ%3D%3D?line=14'>15</a>\u001b[0m const \u001b[39m=\u001b[39m \u001b[39m1\u001b[39m \u001b[39m/\u001b[39m (np\u001b[39m.\u001b[39msqrt((\u001b[39m2\u001b[39m\u001b[39m*\u001b[39mnp\u001b[39m.\u001b[39mpi)\u001b[39m*\u001b[39m\u001b[39m*\u001b[39md \u001b[39m*\u001b[39m \u001b[39mmax\u001b[39m(np\u001b[39m.\u001b[39mlinalg\u001b[39m.\u001b[39mdet(cov), \u001b[39m1e-6\u001b[39m)))\n\u001b[0;32m     <a href='vscode-notebook-cell:/c%3A/Users/LENOVO/OneDrive/Escritorio/Proyecto%20machine%20learning/project2-machine/GMM/gmm.ipynb#W2sZmlsZQ%3D%3D?line=15'>16</a>\u001b[0m x_m \u001b[39m=\u001b[39m np\u001b[39m.\u001b[39mmatrix(point \u001b[39m-\u001b[39m mean)\n\u001b[1;32m---> <a href='vscode-notebook-cell:/c%3A/Users/LENOVO/OneDrive/Escritorio/Proyecto%20machine%20learning/project2-machine/GMM/gmm.ipynb#W2sZmlsZQ%3D%3D?line=16'>17</a>\u001b[0m exp \u001b[39m=\u001b[39m np\u001b[39m.\u001b[39mexp(\u001b[39m-\u001b[39m\u001b[39m0.5\u001b[39m \u001b[39m*\u001b[39m (x_m \u001b[39m*\u001b[39m np\u001b[39m.\u001b[39;49mlinalg\u001b[39m.\u001b[39;49minv(cov) \u001b[39m*\u001b[39m x_m\u001b[39m.\u001b[39mT))\n\u001b[0;32m     <a href='vscode-notebook-cell:/c%3A/Users/LENOVO/OneDrive/Escritorio/Proyecto%20machine%20learning/project2-machine/GMM/gmm.ipynb#W2sZmlsZQ%3D%3D?line=17'>18</a>\u001b[0m \u001b[39mreturn\u001b[39;00m const \u001b[39m*\u001b[39m exp\n",
      "File \u001b[1;32mc:\\Users\\LENOVO\\AppData\\Local\\Programs\\Python\\Python311\\Lib\\site-packages\\numpy\\linalg\\linalg.py:561\u001b[0m, in \u001b[0;36minv\u001b[1;34m(a)\u001b[0m\n\u001b[0;32m    559\u001b[0m signature \u001b[39m=\u001b[39m \u001b[39m'\u001b[39m\u001b[39mD->D\u001b[39m\u001b[39m'\u001b[39m \u001b[39mif\u001b[39;00m isComplexType(t) \u001b[39melse\u001b[39;00m \u001b[39m'\u001b[39m\u001b[39md->d\u001b[39m\u001b[39m'\u001b[39m\n\u001b[0;32m    560\u001b[0m extobj \u001b[39m=\u001b[39m get_linalg_error_extobj(_raise_linalgerror_singular)\n\u001b[1;32m--> 561\u001b[0m ainv \u001b[39m=\u001b[39m _umath_linalg\u001b[39m.\u001b[39;49minv(a, signature\u001b[39m=\u001b[39;49msignature, extobj\u001b[39m=\u001b[39;49mextobj)\n\u001b[0;32m    562\u001b[0m \u001b[39mreturn\u001b[39;00m wrap(ainv\u001b[39m.\u001b[39mastype(result_t, copy\u001b[39m=\u001b[39m\u001b[39mFalse\u001b[39;00m))\n",
      "\u001b[1;31mKeyboardInterrupt\u001b[0m: "
     ]
    }
   ],
   "source": [
    "import random\n",
    "import numpy as np \n",
    "import math\n",
    "\n",
    "class GMMComponent:\n",
    "\n",
    "    def __init__(self, d):\n",
    "        self.mean = [random.random() for _ in range(d)]\n",
    "        self.cov = [[random.random() for _ in range(d)] for _ in range(d)]\n",
    "        \n",
    "    def score(self, point):\n",
    "        mean = self.mean\n",
    "        cov = self.cov \n",
    "        \n",
    "        const = 1 / (np.sqrt((2*np.pi)**d * max(np.linalg.det(cov), 1e-6)))\n",
    "        x_m = np.matrix(point - mean)\n",
    "        exp = np.exp(-0.5 * (x_m * np.linalg.inv(cov) * x_m.T))\n",
    "        return const * exp\n",
    "\n",
    "    def update(self, resp, data, N, d):\n",
    "        resp_k = sum(resp)\n",
    "        \n",
    "        mean_k = [r * data[i] for i,r in enumerate(resp)]\n",
    "        self.mean = np.sum(mean_k, axis=0) / resp_k\n",
    "        \n",
    "        diff = [np.matrix(data[i] - self.mean) for i,r in enumerate(resp)]\n",
    "        cov_k = [r * (d[i].T @ d[i]) for i, r in zip(diff, resp)]\n",
    "        self.cov = np.sum(cov_k, axis=0) / resp_k\n",
    "\n",
    "class GMM:  \n",
    "\n",
    "    def __init__(self, k, d):\n",
    "        self.k = k\n",
    "        self.components = [GMMComponent(d) for _ in range(k)]\n",
    "    \n",
    "    def fit(self, data):\n",
    "       N, d = data.shape\n",
    "        \n",
    "       for _ in range(10):\n",
    "           resp = [self._e_step(point) for point in data]\n",
    "           self._m_step(resp, data, N, d)\n",
    "           \n",
    "    def predict(self, point):\n",
    "        resp = self._e_step(point)\n",
    "        return max(range(self.k), key=lambda k: resp[k])\n",
    "\n",
    "    def _e_step(self, data):\n",
    "        scores = []\n",
    "        for point in data:\n",
    "            scores.append([c.score(point) for c in self.components])\n",
    "        total_scores = np.sum(scores, axis=1)\n",
    "        normalized_scores = [s / total for s, total in zip(scores, total_scores)]\n",
    "        return normalized_scores\n",
    "\n",
    "\n",
    "    def _m_step(self, resp, data, N, d):\n",
    "        for k in range(self.k):\n",
    "            resp_k = [r[k] for r in resp]\n",
    "            self.components[k].update(resp_k, data, N, d)\n",
    "       \n",
    "# Uso:\n",
    "        \n",
    "d = 50 # dimensiones tras PCA\n",
    "gmm = GMM(5, d) \n",
    "gmm.fit(data_pca)\n",
    "clusters = [gmm.predict(point) for point in data_pca]"
   ]
  }
 ],
 "metadata": {
  "kernelspec": {
   "display_name": "Python 3",
   "language": "python",
   "name": "python3"
  },
  "language_info": {
   "codemirror_mode": {
    "name": "ipython",
    "version": 3
   },
   "file_extension": ".py",
   "mimetype": "text/x-python",
   "name": "python",
   "nbconvert_exporter": "python",
   "pygments_lexer": "ipython3",
   "version": "3.11.5"
  }
 },
 "nbformat": 4,
 "nbformat_minor": 2
}
