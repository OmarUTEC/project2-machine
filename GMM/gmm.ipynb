{
 "cells": [
  {
   "cell_type": "code",
   "execution_count": 4,
   "metadata": {},
   "outputs": [
    {
     "name": "stdout",
     "output_type": "stream",
     "text": [
      "                                                       0\n",
      "0      ,\"GSM11805.CEL.gz\",\"GSM11814.CEL.gz\",\"GSM11823...\n",
      "1      1007_s_at,10.1912666822211,10.5091673351314,10...\n",
      "2      1053_at,6.04046250272039,6.69607547976383,6.14...\n",
      "3      117_at,7.44740927631719,7.77535403522073,7.696...\n",
      "4      121_at,12.0250418580982,12.0078171043575,11.63...\n",
      "...                                                  ...\n",
      "22211  91703_at,6.43485083964546,7.6769887682576,6.42...\n",
      "22212  91816_f_at,5.70044827295955,6.56647865392162,5...\n",
      "22213  91826_at,9.21116303052509,9.41598030255139,8.1...\n",
      "22214  91920_at,8.33913007018526,8.21442605889894,8.4...\n",
      "22215  91952_at,7.36779705423511,7.9177537650076,7.59...\n",
      "\n",
      "[22216 rows x 1 columns]\n"
     ]
    }
   ],
   "source": [
    "import pandas as pd\n",
    "\n",
    "data = pd.read_csv('../db/dataset_tissue.txt', header=None, sep=' ')\n",
    "\n",
    "labels = pd.read_csv('../db/clase.txt', header=None)\n",
    "\n",
    "print(data)"
   ]
  },
  {
   "cell_type": "code",
   "execution_count": 5,
   "metadata": {},
   "outputs": [],
   "source": [
    "import pandas as pd\n",
    "import numpy as np\n",
    "from sklearn.decomposition import PCA\n",
    "from sklearn.preprocessing import StandardScaler\n",
    "\n",
    "data_tissue = pd.read_csv('../db/dataset_tissue.txt', sep=',')\n",
    "data_no_id = data_tissue.drop(columns=[\"Unnamed: 0\"])\n",
    "scaler = StandardScaler()\n",
    "data_standardized = scaler.fit_transform(data_no_id)\n",
    "\n",
    "# Realiza PCA\n",
    "pca_original = PCA()\n",
    "data_pca_original = pca_original.fit_transform(data_standardized)\n"
   ]
  },
  {
   "cell_type": "code",
   "execution_count": 6,
   "metadata": {},
   "outputs": [],
   "source": [
    "explained_variance_ratio_cumsum_original = pca_original.explained_variance_ratio_.cumsum()"
   ]
  },
  {
   "cell_type": "code",
   "execution_count": 7,
   "metadata": {},
   "outputs": [
    {
     "name": "stdout",
     "output_type": "stream",
     "text": [
      "Número de componentes para obtener la data al 95%: 6\n"
     ]
    }
   ],
   "source": [
    "num_components_95 = (explained_variance_ratio_cumsum_original >= 0.95).argmax() + 1\n",
    "print(f\"Número de componentes para obtener la data al 95%: {num_components_95}\")"
   ]
  },
  {
   "cell_type": "code",
   "execution_count": 17,
   "metadata": {},
   "outputs": [
    {
     "ename": "ValueError",
     "evalue": "could not convert string to float: ',\"GSM11805.CEL.gz\",\"GSM11814.CEL.gz\",\"GSM11823.CEL.gz\",\"GSM11830.CEL.gz\",\"GSM12067.CEL.gz\",\"GSM12075.CEL.gz\",\"GSM12079.CEL.gz\",\"GSM12098.CEL.gz\",\"GSM12105.CEL.gz\",\"GSM12268.CEL.gz\",\"GSM12270.CEL.gz\",\"GSM12283.CEL.gz\",\"GSM12298.CEL.gz\",\"GSM12300.CEL.gz\",\"GSM12399.CEL.gz\",\"GSM12444.CEL.gz\",\"GSM21203.cel.gz\",\"GSM21204.cel.gz\",\"GSM21205.cel.gz\",\"GSM21206.cel.gz\",\"GSM21207.cel.gz\",\"GSM21208.cel.gz\",\"GSM21209.cel.gz\",\"GSM21210.cel.gz\",\"GSM21212.cel.gz\",\"GSM21213.cel.gz\",\"GSM21214.cel.gz\",\"GSM21215.cel.gz\",\"GSM21216.cel.gz\",\"GSM21217.cel.gz\",\"GSM21218.cel.gz\",\"GSM21219.cel.gz\",\"GSM21220.cel.gz\",\"GSM21221.cel.gz\",\"GSM21222.cel.gz\",\"GSM21223.cel.gz\",\"GSM21224.cel.gz\",\"GSM21225.cel.gz\",\"GSM21226.cel.gz\",\"GSM21227.cel.gz\",\"GSM21228.cel.gz\",\"GSM21229.cel.gz\",\"GSM21230.cel.gz\",\"GSM21231.cel.gz\",\"GSM21232.cel.gz\",\"GSM21233.cel.gz\",\"GSM87058.cel.gz\",\"GSM87064.cel.gz\",\"GSM87065.cel.gz\",\"GSM87066.cel.gz\",\"GSM87071.cel.gz\",\"GSM87072.cel.gz\",\"GSM87073.cel.gz\",\"GSM87074.cel.gz\",\"GSM87075.cel.gz\",\"GSM87085.cel.gz\",\"GSM87086.cel.gz\",\"GSM87087.cel.gz\",\"GSM87088.cel.gz\",\"GSM87089.cel.gz\",\"GSM87090.CEL.gz\",\"GSM87091.cel.gz\",\"GSM87092.cel.gz\",\"GSM87093.cel.gz\",\"GSM87094.cel.gz\",\"GSM87095.cel.gz\",\"GSM87096.cel.gz\",\"GSM87097.cel.gz\",\"GSM87098.cel.gz\",\"GSM87099.cel.gz\",\"GSM87100.cel.gz\",\"GSM87101.cel.gz\",\"GSM87102.cel.gz\",\"GSM146778.CEL.gz\",\"GSM146779.CEL.gz\",\"GSM146781.CEL.gz\",\"GSM146782.CEL.gz\",\"GSM146783.CEL.gz\",\"GSM146785.CEL.gz\",\"GSM146787.CEL.gz\",\"GSM146788.CEL.gz\",\"GSM146789.CEL.gz\",\"GSM146791.CEL.gz\",\"GSM146793.CEL.gz\",\"GSM146795.CEL.gz\",\"GSM146797.CEL.gz\",\"GSM92240.CEL.gz\",\"GSM92241.CEL.gz\",\"GSM92242.CEL.gz\",\"GSM92243.CEL.gz\",\"GSM92244.CEL.gz\",\"GSM92245.CEL.gz\",\"GSM92247.CEL.gz\",\"GSM92248.CEL.gz\",\"GSM92249.CEL.gz\",\"GSM92250.CEL.gz\",\"GSM92253.CEL.gz\",\"GSM92254.CEL.gz\",\"GSM92255.CEL.gz\",\"GSM92256.CEL.gz\",\"GSM92257.CEL.gz\",\"GSM92258.CEL.gz\",\"GSM92259.CEL.gz\",\"GSM92260.CEL.gz\",\"GSM92261.CEL.gz\",\"GSM92262.CEL.gz\",\"GSM92263.CEL.gz\",\"GSM92264.CEL.gz\",\"GSM92265.CEL.gz\",\"GSM92266.CEL.gz\",\"GSM92267.CEL.gz\",\"GSM92268.CEL.gz\",\"GSM92269.CEL.gz\",\"GSM92270.CEL.gz\",\"GSM92271.CEL.gz\",\"GSM92272.CEL.gz\",\"GSM92273.CEL.gz\",\"GSM92274.CEL.gz\",\"GSM92275.CEL.gz\",\"GSM92276.CEL.gz\",\"GSM35979.cel.gz\",\"GSM35980.cel.gz\",\"GSM35981.cel.gz\",\"GSM35982.cel.gz\",\"GSM35983.cel.gz\",\"GSM35984.cel.gz\",\"GSM35991.cel.gz\",\"GSM35992.cel.gz\",\"GSM35993.cel.gz\",\"GSM35994.cel.gz\",\"GSM35995.cel.gz\",\"GSM35996.cel.gz\",\"GSM36003.cel.gz\",\"GSM44675.CEL.gz\",\"GSM44689.CEL.gz\",\"GSM44697.CEL.gz\",\"GSM44702.CEL.gz\",\"GSM181429.CEL.gz\",\"GSM181430.CEL.gz\",\"GSM181431.CEL.gz\",\"GSM181432.CEL.gz\",\"GSM181433.CEL.gz\",\"GSM18917.CEL.gz\",\"GSM18918.CEL.gz\",\"GSM18953.CEL.gz\",\"GSM18954.CEL.gz\",\"GSM18955.CEL.gz\",\"GSM18956.CEL.gz\",\"GSM296875.CEL.gz\",\"GSM296876.CEL.gz\",\"GSM296878.CEL.gz\",\"GSM296879.CEL.gz\",\"GSM296880.CEL.gz\",\"GSM296881.CEL.gz\",\"GSM296882.CEL.gz\",\"GSM296883.CEL.gz\",\"GSM296886.CEL.gz\",\"GSM296887.CEL.gz\",\"GSM296888.CEL.gz\",\"GSM296889.CEL.gz\",\"GSM296890.CEL.gz\",\"GSM296891.CEL.gz\",\"GSM296892.CEL.gz\",\"GSM298747.CEL.gz\",\"GSM298748.CEL.gz\",\"GSM298749.CEL.gz\",\"GSM298750.CEL.gz\",\"GSM299110.CEL.gz\",\"GSM299111.CEL.gz\",\"GSM299112.CEL.gz\",\"GSM299113.CEL.gz\",\"GSM299244.CEL.gz\",\"GSM299245.CEL.gz\",\"GSM299246.CEL.gz\",\"GSM299247.CEL.gz\",\"GSM322969.CEL.gz\",\"GSM323054.CEL.gz\",\"GSM323523.CEL.gz\",\"GSM323524.CEL.gz\",\"GSM323527.CEL.gz\",\"GSM323565.CEL.gz\",\"GSM323566.CEL.gz\",\"GSM323567.CEL.gz\",\"GSM246492.CEL.gz\",\"GSM246493.CEL.gz\",\"GSM246494.CEL.gz\",\"GSM307639.CEL.gz\",\"GSM307640.CEL.gz\",\"GSM307641.CEL.gz\"'",
     "output_type": "error",
     "traceback": [
      "\u001b[1;31m---------------------------------------------------------------------------\u001b[0m",
      "\u001b[1;31mValueError\u001b[0m                                Traceback (most recent call last)",
      "\u001b[1;32m~\\AppData\\Local\\Temp\\ipykernel_11596\\343710261.py\u001b[0m in \u001b[0;36m?\u001b[1;34m()\u001b[0m\n\u001b[0;32m     54\u001b[0m \u001b[1;33m\u001b[0m\u001b[0m\n\u001b[0;32m     55\u001b[0m \u001b[1;31m# Usar el modelo\u001b[0m\u001b[1;33m\u001b[0m\u001b[1;33m\u001b[0m\u001b[0m\n\u001b[0;32m     56\u001b[0m \u001b[0md\u001b[0m \u001b[1;33m=\u001b[0m \u001b[0mnum_components_95\u001b[0m\u001b[1;33m\u001b[0m\u001b[1;33m\u001b[0m\u001b[0m\n\u001b[0;32m     57\u001b[0m \u001b[0mgmm\u001b[0m \u001b[1;33m=\u001b[0m \u001b[0mGMM\u001b[0m\u001b[1;33m(\u001b[0m\u001b[1;36m5\u001b[0m\u001b[1;33m,\u001b[0m \u001b[0md\u001b[0m\u001b[1;33m)\u001b[0m\u001b[1;33m\u001b[0m\u001b[1;33m\u001b[0m\u001b[0m\n\u001b[1;32m---> 58\u001b[1;33m \u001b[0mgmm\u001b[0m\u001b[1;33m.\u001b[0m\u001b[0mfit\u001b[0m\u001b[1;33m(\u001b[0m\u001b[0mdata\u001b[0m\u001b[1;33m)\u001b[0m\u001b[1;33m\u001b[0m\u001b[1;33m\u001b[0m\u001b[0m\n\u001b[0m\u001b[0;32m     59\u001b[0m \u001b[0mclusters\u001b[0m \u001b[1;33m=\u001b[0m \u001b[0mgmm\u001b[0m\u001b[1;33m.\u001b[0m\u001b[0mpredict\u001b[0m\u001b[1;33m(\u001b[0m\u001b[0mdata\u001b[0m\u001b[1;33m)\u001b[0m\u001b[1;33m\u001b[0m\u001b[1;33m\u001b[0m\u001b[0m\n",
      "\u001b[1;32m~\\AppData\\Local\\Temp\\ipykernel_11596\\343710261.py\u001b[0m in \u001b[0;36m?\u001b[1;34m(self, data)\u001b[0m\n\u001b[0;32m     35\u001b[0m     \u001b[1;32mdef\u001b[0m \u001b[0mfit\u001b[0m\u001b[1;33m(\u001b[0m\u001b[0mself\u001b[0m\u001b[1;33m,\u001b[0m \u001b[0mdata\u001b[0m\u001b[1;33m)\u001b[0m\u001b[1;33m:\u001b[0m\u001b[1;33m\u001b[0m\u001b[1;33m\u001b[0m\u001b[0m\n\u001b[0;32m     36\u001b[0m         \u001b[0mN\u001b[0m \u001b[1;33m=\u001b[0m \u001b[0mdata\u001b[0m\u001b[1;33m.\u001b[0m\u001b[0mshape\u001b[0m\u001b[1;33m[\u001b[0m\u001b[1;36m0\u001b[0m\u001b[1;33m]\u001b[0m\u001b[1;33m\u001b[0m\u001b[1;33m\u001b[0m\u001b[0m\n\u001b[0;32m     37\u001b[0m         \u001b[1;32mfor\u001b[0m \u001b[0m_\u001b[0m \u001b[1;32min\u001b[0m \u001b[0mrange\u001b[0m\u001b[1;33m(\u001b[0m\u001b[1;36m25\u001b[0m\u001b[1;33m)\u001b[0m\u001b[1;33m:\u001b[0m\u001b[1;33m\u001b[0m\u001b[1;33m\u001b[0m\u001b[0m\n\u001b[1;32m---> 38\u001b[1;33m             \u001b[0mresp\u001b[0m \u001b[1;33m=\u001b[0m \u001b[0mself\u001b[0m\u001b[1;33m.\u001b[0m\u001b[0m_e_step\u001b[0m\u001b[1;33m(\u001b[0m\u001b[0mdata\u001b[0m\u001b[1;33m)\u001b[0m\u001b[1;33m\u001b[0m\u001b[1;33m\u001b[0m\u001b[0m\n\u001b[0m\u001b[0;32m     39\u001b[0m             \u001b[0mself\u001b[0m\u001b[1;33m.\u001b[0m\u001b[0m_m_step\u001b[0m\u001b[1;33m(\u001b[0m\u001b[0mresp\u001b[0m\u001b[1;33m,\u001b[0m \u001b[0mdata\u001b[0m\u001b[1;33m)\u001b[0m\u001b[1;33m\u001b[0m\u001b[1;33m\u001b[0m\u001b[0m\n",
      "\u001b[1;32m~\\AppData\\Local\\Temp\\ipykernel_11596\\343710261.py\u001b[0m in \u001b[0;36m?\u001b[1;34m(self, data)\u001b[0m\n\u001b[0;32m     41\u001b[0m     \u001b[1;32mdef\u001b[0m \u001b[0m_e_step\u001b[0m\u001b[1;33m(\u001b[0m\u001b[0mself\u001b[0m\u001b[1;33m,\u001b[0m \u001b[0mdata\u001b[0m\u001b[1;33m)\u001b[0m\u001b[1;33m:\u001b[0m\u001b[1;33m\u001b[0m\u001b[1;33m\u001b[0m\u001b[0m\n\u001b[1;32m---> 42\u001b[1;33m         \u001b[0mscores\u001b[0m \u001b[1;33m=\u001b[0m \u001b[0mnp\u001b[0m\u001b[1;33m.\u001b[0m\u001b[0marray\u001b[0m\u001b[1;33m(\u001b[0m\u001b[1;33m[\u001b[0m\u001b[0mc\u001b[0m\u001b[1;33m.\u001b[0m\u001b[0mscore\u001b[0m\u001b[1;33m(\u001b[0m\u001b[0mdata\u001b[0m\u001b[1;33m)\u001b[0m \u001b[1;32mfor\u001b[0m \u001b[0mc\u001b[0m \u001b[1;32min\u001b[0m \u001b[0mself\u001b[0m\u001b[1;33m.\u001b[0m\u001b[0mcomponents\u001b[0m\u001b[1;33m]\u001b[0m\u001b[1;33m)\u001b[0m\u001b[1;33m\u001b[0m\u001b[1;33m\u001b[0m\u001b[0m\n\u001b[0m\u001b[0;32m     43\u001b[0m         \u001b[0mtot_scores\u001b[0m \u001b[1;33m=\u001b[0m \u001b[0mscores\u001b[0m\u001b[1;33m.\u001b[0m\u001b[0msum\u001b[0m\u001b[1;33m(\u001b[0m\u001b[0maxis\u001b[0m\u001b[1;33m=\u001b[0m\u001b[1;36m1\u001b[0m\u001b[1;33m)\u001b[0m\u001b[1;33m\u001b[0m\u001b[1;33m\u001b[0m\u001b[0m\n\u001b[0;32m     44\u001b[0m         \u001b[1;32mreturn\u001b[0m \u001b[1;33m(\u001b[0m\u001b[0mscores\u001b[0m\u001b[1;33m.\u001b[0m\u001b[0mT\u001b[0m \u001b[1;33m/\u001b[0m \u001b[0mtot_scores\u001b[0m\u001b[1;33m)\u001b[0m\u001b[1;33m.\u001b[0m\u001b[0mT\u001b[0m\u001b[1;33m\u001b[0m\u001b[1;33m\u001b[0m\u001b[0m\n",
      "\u001b[1;32m~\\AppData\\Local\\Temp\\ipykernel_11596\\343710261.py\u001b[0m in \u001b[0;36m?\u001b[1;34m(.0)\u001b[0m\n\u001b[1;32m---> 42\u001b[1;33m     \u001b[1;32mdef\u001b[0m \u001b[0m_e_step\u001b[0m\u001b[1;33m(\u001b[0m\u001b[0mself\u001b[0m\u001b[1;33m,\u001b[0m \u001b[0mdata\u001b[0m\u001b[1;33m)\u001b[0m\u001b[1;33m:\u001b[0m\u001b[1;33m\u001b[0m\u001b[1;33m\u001b[0m\u001b[0m\n\u001b[0m\u001b[0;32m     43\u001b[0m         \u001b[0mscores\u001b[0m \u001b[1;33m=\u001b[0m \u001b[0mnp\u001b[0m\u001b[1;33m.\u001b[0m\u001b[0marray\u001b[0m\u001b[1;33m(\u001b[0m\u001b[1;33m[\u001b[0m\u001b[0mc\u001b[0m\u001b[1;33m.\u001b[0m\u001b[0mscore\u001b[0m\u001b[1;33m(\u001b[0m\u001b[0mdata\u001b[0m\u001b[1;33m)\u001b[0m \u001b[1;32mfor\u001b[0m \u001b[0mc\u001b[0m \u001b[1;32min\u001b[0m \u001b[0mself\u001b[0m\u001b[1;33m.\u001b[0m\u001b[0mcomponents\u001b[0m\u001b[1;33m]\u001b[0m\u001b[1;33m)\u001b[0m\u001b[1;33m\u001b[0m\u001b[1;33m\u001b[0m\u001b[0m\n\u001b[0;32m     44\u001b[0m         \u001b[0mtot_scores\u001b[0m \u001b[1;33m=\u001b[0m \u001b[0mscores\u001b[0m\u001b[1;33m.\u001b[0m\u001b[0msum\u001b[0m\u001b[1;33m(\u001b[0m\u001b[0maxis\u001b[0m\u001b[1;33m=\u001b[0m\u001b[1;36m1\u001b[0m\u001b[1;33m)\u001b[0m\u001b[1;33m\u001b[0m\u001b[1;33m\u001b[0m\u001b[0m\n\u001b[0;32m     45\u001b[0m         \u001b[1;32mreturn\u001b[0m \u001b[1;33m(\u001b[0m\u001b[0mscores\u001b[0m\u001b[1;33m.\u001b[0m\u001b[0mT\u001b[0m \u001b[1;33m/\u001b[0m \u001b[0mtot_scores\u001b[0m\u001b[1;33m)\u001b[0m\u001b[1;33m.\u001b[0m\u001b[0mT\u001b[0m\u001b[1;33m\u001b[0m\u001b[1;33m\u001b[0m\u001b[0m\n",
      "\u001b[1;32m~\\AppData\\Local\\Temp\\ipykernel_11596\\343710261.py\u001b[0m in \u001b[0;36m?\u001b[1;34m(self, data)\u001b[0m\n\u001b[0;32m     11\u001b[0m     \u001b[1;32mdef\u001b[0m \u001b[0mscore\u001b[0m\u001b[1;33m(\u001b[0m\u001b[0mself\u001b[0m\u001b[1;33m,\u001b[0m \u001b[0mdata\u001b[0m\u001b[1;33m)\u001b[0m\u001b[1;33m:\u001b[0m\u001b[1;33m\u001b[0m\u001b[1;33m\u001b[0m\u001b[0m\n\u001b[1;32m---> 12\u001b[1;33m         \u001b[1;32mreturn\u001b[0m \u001b[0mmultivariate_normal\u001b[0m\u001b[1;33m.\u001b[0m\u001b[0mpdf\u001b[0m\u001b[1;33m(\u001b[0m\u001b[0mdata\u001b[0m\u001b[1;33m,\u001b[0m \u001b[0mself\u001b[0m\u001b[1;33m.\u001b[0m\u001b[0mmean\u001b[0m\u001b[1;33m,\u001b[0m \u001b[0mself\u001b[0m\u001b[1;33m.\u001b[0m\u001b[0mcov\u001b[0m\u001b[1;33m)\u001b[0m\u001b[1;33m\u001b[0m\u001b[1;33m\u001b[0m\u001b[0m\n\u001b[0m",
      "\u001b[1;32mc:\\Users\\LENOVO\\AppData\\Local\\Programs\\Python\\Python311\\Lib\\site-packages\\scipy\\stats\\_multivariate.py\u001b[0m in \u001b[0;36m?\u001b[1;34m(self, x, mean, cov, allow_singular)\u001b[0m\n\u001b[0;32m    583\u001b[0m \u001b[1;33m\u001b[0m\u001b[0m\n\u001b[0;32m    584\u001b[0m         \"\"\"\n\u001b[0;32m    585\u001b[0m         \u001b[0mparams\u001b[0m \u001b[1;33m=\u001b[0m \u001b[0mself\u001b[0m\u001b[1;33m.\u001b[0m\u001b[0m_process_parameters\u001b[0m\u001b[1;33m(\u001b[0m\u001b[0mmean\u001b[0m\u001b[1;33m,\u001b[0m \u001b[0mcov\u001b[0m\u001b[1;33m,\u001b[0m \u001b[0mallow_singular\u001b[0m\u001b[1;33m)\u001b[0m\u001b[1;33m\u001b[0m\u001b[1;33m\u001b[0m\u001b[0m\n\u001b[0;32m    586\u001b[0m         \u001b[0mdim\u001b[0m\u001b[1;33m,\u001b[0m \u001b[0mmean\u001b[0m\u001b[1;33m,\u001b[0m \u001b[0mcov_object\u001b[0m \u001b[1;33m=\u001b[0m \u001b[0mparams\u001b[0m\u001b[1;33m\u001b[0m\u001b[1;33m\u001b[0m\u001b[0m\n\u001b[1;32m--> 587\u001b[1;33m         \u001b[0mx\u001b[0m \u001b[1;33m=\u001b[0m \u001b[0mself\u001b[0m\u001b[1;33m.\u001b[0m\u001b[0m_process_quantiles\u001b[0m\u001b[1;33m(\u001b[0m\u001b[0mx\u001b[0m\u001b[1;33m,\u001b[0m \u001b[0mdim\u001b[0m\u001b[1;33m)\u001b[0m\u001b[1;33m\u001b[0m\u001b[1;33m\u001b[0m\u001b[0m\n\u001b[0m\u001b[0;32m    588\u001b[0m         \u001b[0mout\u001b[0m \u001b[1;33m=\u001b[0m \u001b[0mnp\u001b[0m\u001b[1;33m.\u001b[0m\u001b[0mexp\u001b[0m\u001b[1;33m(\u001b[0m\u001b[0mself\u001b[0m\u001b[1;33m.\u001b[0m\u001b[0m_logpdf\u001b[0m\u001b[1;33m(\u001b[0m\u001b[0mx\u001b[0m\u001b[1;33m,\u001b[0m \u001b[0mmean\u001b[0m\u001b[1;33m,\u001b[0m \u001b[0mcov_object\u001b[0m\u001b[1;33m)\u001b[0m\u001b[1;33m)\u001b[0m\u001b[1;33m\u001b[0m\u001b[1;33m\u001b[0m\u001b[0m\n\u001b[0;32m    589\u001b[0m         \u001b[1;32mif\u001b[0m \u001b[0mnp\u001b[0m\u001b[1;33m.\u001b[0m\u001b[0many\u001b[0m\u001b[1;33m(\u001b[0m\u001b[0mcov_object\u001b[0m\u001b[1;33m.\u001b[0m\u001b[0mrank\u001b[0m \u001b[1;33m<\u001b[0m \u001b[0mdim\u001b[0m\u001b[1;33m)\u001b[0m\u001b[1;33m:\u001b[0m\u001b[1;33m\u001b[0m\u001b[1;33m\u001b[0m\u001b[0m\n\u001b[0;32m    590\u001b[0m             \u001b[0mout_of_bounds\u001b[0m \u001b[1;33m=\u001b[0m \u001b[1;33m~\u001b[0m\u001b[0mcov_object\u001b[0m\u001b[1;33m.\u001b[0m\u001b[0m_support_mask\u001b[0m\u001b[1;33m(\u001b[0m\u001b[0mx\u001b[0m\u001b[1;33m-\u001b[0m\u001b[0mmean\u001b[0m\u001b[1;33m)\u001b[0m\u001b[1;33m\u001b[0m\u001b[1;33m\u001b[0m\u001b[0m\n",
      "\u001b[1;32mc:\\Users\\LENOVO\\AppData\\Local\\Programs\\Python\\Python311\\Lib\\site-packages\\scipy\\stats\\_multivariate.py\u001b[0m in \u001b[0;36m?\u001b[1;34m(self, x, dim)\u001b[0m\n\u001b[0;32m    495\u001b[0m         \"\"\"\n\u001b[0;32m    496\u001b[0m         \u001b[0mAdjust\u001b[0m \u001b[0mquantiles\u001b[0m \u001b[0marray\u001b[0m \u001b[0mso\u001b[0m \u001b[0mthat\u001b[0m \u001b[0mlast\u001b[0m \u001b[0maxis\u001b[0m \u001b[0mlabels\u001b[0m \u001b[0mthe\u001b[0m \u001b[0mcomponents\u001b[0m \u001b[0mof\u001b[0m\u001b[1;33m\u001b[0m\u001b[1;33m\u001b[0m\u001b[0m\n\u001b[0;32m    497\u001b[0m         \u001b[0meach\u001b[0m \u001b[0mdata\u001b[0m \u001b[0mpoint\u001b[0m\u001b[1;33m.\u001b[0m\u001b[1;33m\u001b[0m\u001b[1;33m\u001b[0m\u001b[0m\n\u001b[0;32m    498\u001b[0m         \"\"\"\n\u001b[1;32m--> 499\u001b[1;33m         \u001b[0mx\u001b[0m \u001b[1;33m=\u001b[0m \u001b[0mnp\u001b[0m\u001b[1;33m.\u001b[0m\u001b[0masarray\u001b[0m\u001b[1;33m(\u001b[0m\u001b[0mx\u001b[0m\u001b[1;33m,\u001b[0m \u001b[0mdtype\u001b[0m\u001b[1;33m=\u001b[0m\u001b[0mfloat\u001b[0m\u001b[1;33m)\u001b[0m\u001b[1;33m\u001b[0m\u001b[1;33m\u001b[0m\u001b[0m\n\u001b[0m\u001b[0;32m    500\u001b[0m \u001b[1;33m\u001b[0m\u001b[0m\n\u001b[0;32m    501\u001b[0m         \u001b[1;32mif\u001b[0m \u001b[0mx\u001b[0m\u001b[1;33m.\u001b[0m\u001b[0mndim\u001b[0m \u001b[1;33m==\u001b[0m \u001b[1;36m0\u001b[0m\u001b[1;33m:\u001b[0m\u001b[1;33m\u001b[0m\u001b[1;33m\u001b[0m\u001b[0m\n\u001b[0;32m    502\u001b[0m             \u001b[0mx\u001b[0m \u001b[1;33m=\u001b[0m \u001b[0mx\u001b[0m\u001b[1;33m[\u001b[0m\u001b[0mnp\u001b[0m\u001b[1;33m.\u001b[0m\u001b[0mnewaxis\u001b[0m\u001b[1;33m]\u001b[0m\u001b[1;33m\u001b[0m\u001b[1;33m\u001b[0m\u001b[0m\n",
      "\u001b[1;32mc:\\Users\\LENOVO\\AppData\\Local\\Programs\\Python\\Python311\\Lib\\site-packages\\pandas\\core\\generic.py\u001b[0m in \u001b[0;36m?\u001b[1;34m(self, dtype)\u001b[0m\n\u001b[0;32m   2082\u001b[0m     \u001b[1;32mdef\u001b[0m \u001b[0m__array__\u001b[0m\u001b[1;33m(\u001b[0m\u001b[0mself\u001b[0m\u001b[1;33m,\u001b[0m \u001b[0mdtype\u001b[0m\u001b[1;33m:\u001b[0m \u001b[0mnpt\u001b[0m\u001b[1;33m.\u001b[0m\u001b[0mDTypeLike\u001b[0m \u001b[1;33m|\u001b[0m \u001b[1;32mNone\u001b[0m \u001b[1;33m=\u001b[0m \u001b[1;32mNone\u001b[0m\u001b[1;33m)\u001b[0m \u001b[1;33m->\u001b[0m \u001b[0mnp\u001b[0m\u001b[1;33m.\u001b[0m\u001b[0mndarray\u001b[0m\u001b[1;33m:\u001b[0m\u001b[1;33m\u001b[0m\u001b[1;33m\u001b[0m\u001b[0m\n\u001b[0;32m   2083\u001b[0m         \u001b[0mvalues\u001b[0m \u001b[1;33m=\u001b[0m \u001b[0mself\u001b[0m\u001b[1;33m.\u001b[0m\u001b[0m_values\u001b[0m\u001b[1;33m\u001b[0m\u001b[1;33m\u001b[0m\u001b[0m\n\u001b[1;32m-> 2084\u001b[1;33m         \u001b[0marr\u001b[0m \u001b[1;33m=\u001b[0m \u001b[0mnp\u001b[0m\u001b[1;33m.\u001b[0m\u001b[0masarray\u001b[0m\u001b[1;33m(\u001b[0m\u001b[0mvalues\u001b[0m\u001b[1;33m,\u001b[0m \u001b[0mdtype\u001b[0m\u001b[1;33m=\u001b[0m\u001b[0mdtype\u001b[0m\u001b[1;33m)\u001b[0m\u001b[1;33m\u001b[0m\u001b[1;33m\u001b[0m\u001b[0m\n\u001b[0m\u001b[0;32m   2085\u001b[0m         if (\n\u001b[0;32m   2086\u001b[0m             \u001b[0mastype_is_view\u001b[0m\u001b[1;33m(\u001b[0m\u001b[0mvalues\u001b[0m\u001b[1;33m.\u001b[0m\u001b[0mdtype\u001b[0m\u001b[1;33m,\u001b[0m \u001b[0marr\u001b[0m\u001b[1;33m.\u001b[0m\u001b[0mdtype\u001b[0m\u001b[1;33m)\u001b[0m\u001b[1;33m\u001b[0m\u001b[1;33m\u001b[0m\u001b[0m\n\u001b[0;32m   2087\u001b[0m             \u001b[1;32mand\u001b[0m \u001b[0musing_copy_on_write\u001b[0m\u001b[1;33m(\u001b[0m\u001b[1;33m)\u001b[0m\u001b[1;33m\u001b[0m\u001b[1;33m\u001b[0m\u001b[0m\n",
      "\u001b[1;31mValueError\u001b[0m: could not convert string to float: ',\"GSM11805.CEL.gz\",\"GSM11814.CEL.gz\",\"GSM11823.CEL.gz\",\"GSM11830.CEL.gz\",\"GSM12067.CEL.gz\",\"GSM12075.CEL.gz\",\"GSM12079.CEL.gz\",\"GSM12098.CEL.gz\",\"GSM12105.CEL.gz\",\"GSM12268.CEL.gz\",\"GSM12270.CEL.gz\",\"GSM12283.CEL.gz\",\"GSM12298.CEL.gz\",\"GSM12300.CEL.gz\",\"GSM12399.CEL.gz\",\"GSM12444.CEL.gz\",\"GSM21203.cel.gz\",\"GSM21204.cel.gz\",\"GSM21205.cel.gz\",\"GSM21206.cel.gz\",\"GSM21207.cel.gz\",\"GSM21208.cel.gz\",\"GSM21209.cel.gz\",\"GSM21210.cel.gz\",\"GSM21212.cel.gz\",\"GSM21213.cel.gz\",\"GSM21214.cel.gz\",\"GSM21215.cel.gz\",\"GSM21216.cel.gz\",\"GSM21217.cel.gz\",\"GSM21218.cel.gz\",\"GSM21219.cel.gz\",\"GSM21220.cel.gz\",\"GSM21221.cel.gz\",\"GSM21222.cel.gz\",\"GSM21223.cel.gz\",\"GSM21224.cel.gz\",\"GSM21225.cel.gz\",\"GSM21226.cel.gz\",\"GSM21227.cel.gz\",\"GSM21228.cel.gz\",\"GSM21229.cel.gz\",\"GSM21230.cel.gz\",\"GSM21231.cel.gz\",\"GSM21232.cel.gz\",\"GSM21233.cel.gz\",\"GSM87058.cel.gz\",\"GSM87064.cel.gz\",\"GSM87065.cel.gz\",\"GSM87066.cel.gz\",\"GSM87071.cel.gz\",\"GSM87072.cel.gz\",\"GSM87073.cel.gz\",\"GSM87074.cel.gz\",\"GSM87075.cel.gz\",\"GSM87085.cel.gz\",\"GSM87086.cel.gz\",\"GSM87087.cel.gz\",\"GSM87088.cel.gz\",\"GSM87089.cel.gz\",\"GSM87090.CEL.gz\",\"GSM87091.cel.gz\",\"GSM87092.cel.gz\",\"GSM87093.cel.gz\",\"GSM87094.cel.gz\",\"GSM87095.cel.gz\",\"GSM87096.cel.gz\",\"GSM87097.cel.gz\",\"GSM87098.cel.gz\",\"GSM87099.cel.gz\",\"GSM87100.cel.gz\",\"GSM87101.cel.gz\",\"GSM87102.cel.gz\",\"GSM146778.CEL.gz\",\"GSM146779.CEL.gz\",\"GSM146781.CEL.gz\",\"GSM146782.CEL.gz\",\"GSM146783.CEL.gz\",\"GSM146785.CEL.gz\",\"GSM146787.CEL.gz\",\"GSM146788.CEL.gz\",\"GSM146789.CEL.gz\",\"GSM146791.CEL.gz\",\"GSM146793.CEL.gz\",\"GSM146795.CEL.gz\",\"GSM146797.CEL.gz\",\"GSM92240.CEL.gz\",\"GSM92241.CEL.gz\",\"GSM92242.CEL.gz\",\"GSM92243.CEL.gz\",\"GSM92244.CEL.gz\",\"GSM92245.CEL.gz\",\"GSM92247.CEL.gz\",\"GSM92248.CEL.gz\",\"GSM92249.CEL.gz\",\"GSM92250.CEL.gz\",\"GSM92253.CEL.gz\",\"GSM92254.CEL.gz\",\"GSM92255.CEL.gz\",\"GSM92256.CEL.gz\",\"GSM92257.CEL.gz\",\"GSM92258.CEL.gz\",\"GSM92259.CEL.gz\",\"GSM92260.CEL.gz\",\"GSM92261.CEL.gz\",\"GSM92262.CEL.gz\",\"GSM92263.CEL.gz\",\"GSM92264.CEL.gz\",\"GSM92265.CEL.gz\",\"GSM92266.CEL.gz\",\"GSM92267.CEL.gz\",\"GSM92268.CEL.gz\",\"GSM92269.CEL.gz\",\"GSM92270.CEL.gz\",\"GSM92271.CEL.gz\",\"GSM92272.CEL.gz\",\"GSM92273.CEL.gz\",\"GSM92274.CEL.gz\",\"GSM92275.CEL.gz\",\"GSM92276.CEL.gz\",\"GSM35979.cel.gz\",\"GSM35980.cel.gz\",\"GSM35981.cel.gz\",\"GSM35982.cel.gz\",\"GSM35983.cel.gz\",\"GSM35984.cel.gz\",\"GSM35991.cel.gz\",\"GSM35992.cel.gz\",\"GSM35993.cel.gz\",\"GSM35994.cel.gz\",\"GSM35995.cel.gz\",\"GSM35996.cel.gz\",\"GSM36003.cel.gz\",\"GSM44675.CEL.gz\",\"GSM44689.CEL.gz\",\"GSM44697.CEL.gz\",\"GSM44702.CEL.gz\",\"GSM181429.CEL.gz\",\"GSM181430.CEL.gz\",\"GSM181431.CEL.gz\",\"GSM181432.CEL.gz\",\"GSM181433.CEL.gz\",\"GSM18917.CEL.gz\",\"GSM18918.CEL.gz\",\"GSM18953.CEL.gz\",\"GSM18954.CEL.gz\",\"GSM18955.CEL.gz\",\"GSM18956.CEL.gz\",\"GSM296875.CEL.gz\",\"GSM296876.CEL.gz\",\"GSM296878.CEL.gz\",\"GSM296879.CEL.gz\",\"GSM296880.CEL.gz\",\"GSM296881.CEL.gz\",\"GSM296882.CEL.gz\",\"GSM296883.CEL.gz\",\"GSM296886.CEL.gz\",\"GSM296887.CEL.gz\",\"GSM296888.CEL.gz\",\"GSM296889.CEL.gz\",\"GSM296890.CEL.gz\",\"GSM296891.CEL.gz\",\"GSM296892.CEL.gz\",\"GSM298747.CEL.gz\",\"GSM298748.CEL.gz\",\"GSM298749.CEL.gz\",\"GSM298750.CEL.gz\",\"GSM299110.CEL.gz\",\"GSM299111.CEL.gz\",\"GSM299112.CEL.gz\",\"GSM299113.CEL.gz\",\"GSM299244.CEL.gz\",\"GSM299245.CEL.gz\",\"GSM299246.CEL.gz\",\"GSM299247.CEL.gz\",\"GSM322969.CEL.gz\",\"GSM323054.CEL.gz\",\"GSM323523.CEL.gz\",\"GSM323524.CEL.gz\",\"GSM323527.CEL.gz\",\"GSM323565.CEL.gz\",\"GSM323566.CEL.gz\",\"GSM323567.CEL.gz\",\"GSM246492.CEL.gz\",\"GSM246493.CEL.gz\",\"GSM246494.CEL.gz\",\"GSM307639.CEL.gz\",\"GSM307640.CEL.gz\",\"GSM307641.CEL.gz\"'"
     ]
    }
   ],
   "source": [
    "import numpy as np\n",
    "from scipy.stats import multivariate_normal\n",
    "\n",
    "class GMMComponent:\n",
    "\n",
    "    def __init__(self, d):\n",
    "        self.mean = np.random.rand(d)\n",
    "        self.cov = np.eye(d) \n",
    "        self.cov_inv = np.linalg.inv(self.cov)\n",
    "\n",
    "    def score(self, data):\n",
    "        return multivariate_normal.pdf(data, self.mean, self.cov)\n",
    "\n",
    "    def update(self, resp, data):\n",
    "        N = resp.shape[0]\n",
    "        \n",
    "        # actualizar mean\n",
    "        resp_mean = np.sum(resp[:,np.newaxis] * data, axis=0) \n",
    "        new_mean = resp_mean / N\n",
    "        \n",
    "        # actualizar covarianza\n",
    "        diff = data - new_mean\n",
    "        new_cov = np.dot((resp * diff).T, diff) / N\n",
    "        \n",
    "        self.mean = new_mean\n",
    "        self.cov = new_cov + np.eye(data.shape[1]) * 1e-6 \n",
    "        self.cov_inv = np.linalg.inv(self.cov)\n",
    "\n",
    "        \n",
    "class GMM:\n",
    "\n",
    "    def __init__(self, k, d):\n",
    "        self.components = [GMMComponent(d) for _ in range(k)]\n",
    "        \n",
    "    def fit(self, data):\n",
    "        N = data.shape[0]\n",
    "        for _ in range(25):\n",
    "            resp = self._e_step(data)\n",
    "            self._m_step(resp, data)\n",
    "            \n",
    "    def _e_step(self, data):\n",
    "        scores = np.array([c.score(data) for c in self.components]) \n",
    "        tot_scores = scores.sum(axis=1)\n",
    "        return (scores.T / tot_scores).T \n",
    "\n",
    "    def _m_step(self, resp, data):\n",
    "        for k in range(len(self.components)):\n",
    "            resp_k = resp[:,k]\n",
    "            self.components[k].update(resp_k, data)\n",
    "            \n",
    "    def predict(self, data):\n",
    "        resp = self._e_step(data)\n",
    "        return np.argmax(resp, axis=1)\n",
    "        \n",
    "# Usar el modelo \n",
    "d = num_components_95       \n",
    "gmm = GMM(5, d)\n",
    "gmm.fit(data)\n",
    "clusters = gmm.predict(data)"
   ]
  },
  {
   "cell_type": "code",
   "execution_count": null,
   "metadata": {},
   "outputs": [],
   "source": [
    "n=0"
   ]
  }
 ],
 "metadata": {
  "kernelspec": {
   "display_name": "Python 3",
   "language": "python",
   "name": "python3"
  },
  "language_info": {
   "codemirror_mode": {
    "name": "ipython",
    "version": 3
   },
   "file_extension": ".py",
   "mimetype": "text/x-python",
   "name": "python",
   "nbconvert_exporter": "python",
   "pygments_lexer": "ipython3",
   "version": "3.11.5"
  }
 },
 "nbformat": 4,
 "nbformat_minor": 2
}
