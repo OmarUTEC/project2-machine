{
 "cells": [
  {
   "cell_type": "code",
   "execution_count": 1,
   "metadata": {},
   "outputs": [],
   "source": [
    "import pandas as pd\n",
    "\n",
    "data = pd.read_csv('../data_pca_6_components.csv', header=None, sep=' ')"
   ]
  },
  {
   "cell_type": "code",
   "execution_count": 2,
   "metadata": {},
   "outputs": [],
   "source": [
    "labels = pd.read_csv('../db/clase.txt', header=None)"
   ]
  },
  {
   "cell_type": "code",
   "execution_count": 3,
   "metadata": {},
   "outputs": [
    {
     "name": "stdout",
     "output_type": "stream",
     "text": [
      "                                                       0\n",
      "0                                PC1,PC2,PC3,PC4,PC5,PC6\n",
      "1      22.534268188497318,1.9337042475911395,-3.43185...\n",
      "2      -9.788465910188643,-0.9395021742789317,-0.8305...\n",
      "3      3.520281747889219,-1.5177525046477258,1.960280...\n",
      "4      27.726211378994336,-0.6004380181676845,0.22688...\n",
      "...                                                  ...\n",
      "22211  -3.478319494814246,-2.0696448369607614,0.09694...\n",
      "22212  -5.546945285927173,0.30264989609102694,-2.7070...\n",
      "22213  4.110334206311509,-1.8263863227921673,-1.35682...\n",
      "22214  10.255731430242722,1.718281958442873,0.7408692...\n",
      "22215  4.1958009492449735,-0.21142393603700757,-0.401...\n",
      "\n",
      "[22216 rows x 1 columns]\n"
     ]
    }
   ],
   "source": [
    "print(data)"
   ]
  },
  {
   "cell_type": "code",
   "execution_count": 5,
   "metadata": {},
   "outputs": [
    {
     "name": "stdout",
     "output_type": "stream",
     "text": [
      "         0         1\n",
      "0      NaN         x\n",
      "1      1.0    kidney\n",
      "2      2.0    kidney\n",
      "3      3.0    kidney\n",
      "4      4.0    kidney\n",
      "..     ...       ...\n",
      "185  185.0  placenta\n",
      "186  186.0  placenta\n",
      "187  187.0  placenta\n",
      "188  188.0  placenta\n",
      "189  189.0  placenta\n",
      "\n",
      "[190 rows x 2 columns]\n"
     ]
    }
   ],
   "source": [
    "print(labels)"
   ]
  },
  {
   "cell_type": "markdown",
   "metadata": {},
   "source": [
    "# normalizando data"
   ]
  },
  {
   "cell_type": "code",
   "execution_count": 6,
   "metadata": {},
   "outputs": [],
   "source": [
    "import pandas as pd\n",
    "from sklearn.decomposition import PCA\n",
    "from sklearn.preprocessing import MinMaxScaler  # Agregamos la importación\n",
    "\n",
    "skip_rows = 1  # omitir la primera fila\n",
    "data = pd.read_csv('../db/dataset_tissue.txt', skiprows=skip_rows, header=None, sep=',')  # Cambiar el separador a ','\n",
    "\n",
    "# Eliminar la primera columna que contiene identificadores de genes\n",
    "data = data.iloc[:, 1:]\n",
    "\n",
    "# Crear una instancia del MinMaxScaler\n",
    "scaler = MinMaxScaler()\n",
    "\n",
    "# Aplicar la normalización Min-Max a tus datos\n",
    "normalized_data = scaler.fit_transform(data)\n",
    "\n",
    "# Especificar el número de componentes principales a retener\n",
    "n_components = 10\n",
    "\n",
    "# Crear una instancia de PCA con el número de componentes\n",
    "pca = PCA(n_components=n_components)\n",
    "\n",
    "# Ajustar y transformar los datos con PCA\n",
    "data_pca = pca.fit_transform(normalized_data)\n"
   ]
  },
  {
   "cell_type": "code",
   "execution_count": 7,
   "metadata": {},
   "outputs": [
    {
     "name": "stdout",
     "output_type": "stream",
     "text": [
      "[[ 4.00348016  0.33857487 -0.6251264  ... -0.05279413 -0.08566269\n",
      "   0.39024206]\n",
      " [-1.73972518 -0.16959045 -0.14137785 ... -0.05424737  0.09434474\n",
      "   0.06035874]\n",
      " [ 0.60699112 -0.26259399  0.3345809  ...  0.13180037  0.12405803\n",
      "   0.05959487]\n",
      " ...\n",
      " [ 0.70591661 -0.32843881 -0.26138034 ...  0.07785849 -0.04572555\n",
      "  -0.00986342]\n",
      " [ 1.81609239  0.31259468  0.11254222 ...  0.24398219 -0.05425589\n",
      "   0.32945206]\n",
      " [ 0.74111991 -0.03251617 -0.0723081  ...  0.12945562  0.03598081\n",
      "  -0.01200511]]\n"
     ]
    }
   ],
   "source": [
    "print(data_pca)"
   ]
  },
  {
   "cell_type": "code",
   "execution_count": 4,
   "metadata": {},
   "outputs": [
    {
     "ename": "NameError",
     "evalue": "name 'data_pca' is not defined",
     "output_type": "error",
     "traceback": [
      "\u001b[1;31m---------------------------------------------------------------------------\u001b[0m",
      "\u001b[1;31mNameError\u001b[0m                                 Traceback (most recent call last)",
      "\u001b[1;32mc:\\Users\\Omar\\Desktop\\VCICLO\\MACHINE LEARNING\\project2-machine\\k-Means\\k-means.ipynb Celda 8\u001b[0m line \u001b[0;36m<cell line: 4>\u001b[1;34m()\u001b[0m\n\u001b[0;32m      <a href='vscode-notebook-cell:/c%3A/Users/Omar/Desktop/VCICLO/MACHINE%20LEARNING/project2-machine/k-Means/k-means.ipynb#X10sZmlsZQ%3D%3D?line=0'>1</a>\u001b[0m \u001b[39mimport\u001b[39;00m \u001b[39mmatplotlib\u001b[39;00m\u001b[39m.\u001b[39;00m\u001b[39mpyplot\u001b[39;00m \u001b[39mas\u001b[39;00m \u001b[39mplt\u001b[39;00m\n\u001b[0;32m      <a href='vscode-notebook-cell:/c%3A/Users/Omar/Desktop/VCICLO/MACHINE%20LEARNING/project2-machine/k-Means/k-means.ipynb#X10sZmlsZQ%3D%3D?line=2'>3</a>\u001b[0m \u001b[39m# Extraer los dos primeros componentes principales\u001b[39;00m\n\u001b[1;32m----> <a href='vscode-notebook-cell:/c%3A/Users/Omar/Desktop/VCICLO/MACHINE%20LEARNING/project2-machine/k-Means/k-means.ipynb#X10sZmlsZQ%3D%3D?line=3'>4</a>\u001b[0m component1 \u001b[39m=\u001b[39m data_pca[:, \u001b[39m0\u001b[39m]\n\u001b[0;32m      <a href='vscode-notebook-cell:/c%3A/Users/Omar/Desktop/VCICLO/MACHINE%20LEARNING/project2-machine/k-Means/k-means.ipynb#X10sZmlsZQ%3D%3D?line=4'>5</a>\u001b[0m component2 \u001b[39m=\u001b[39m data_pca[:, \u001b[39m1\u001b[39m]\n\u001b[0;32m      <a href='vscode-notebook-cell:/c%3A/Users/Omar/Desktop/VCICLO/MACHINE%20LEARNING/project2-machine/k-Means/k-means.ipynb#X10sZmlsZQ%3D%3D?line=6'>7</a>\u001b[0m \u001b[39m# Dibuja un gráfico de dispersión\u001b[39;00m\n",
      "\u001b[1;31mNameError\u001b[0m: name 'data_pca' is not defined"
     ]
    }
   ],
   "source": [
    "import matplotlib.pyplot as plt\n",
    "\n",
    "# Extraer los dos primeros componentes principales\n",
    "component1 = data_pca[:, 0]\n",
    "component2 = data_pca[:, 1]\n",
    "\n",
    "# Dibuja un gráfico de dispersión\n",
    "plt.figure(figsize=(8, 6))\n",
    "plt.scatter(component1, component2, alpha=0.5)\n",
    "plt.title('Gráfico de dispersión de los dos primeros componentes principales')\n",
    "plt.xlabel('Primer Componente Principal')\n",
    "plt.ylabel('Segundo Componente Principal')\n",
    "plt.show()\n"
   ]
  },
  {
   "cell_type": "markdown",
   "metadata": {},
   "source": [
    "# K-Means"
   ]
  },
  {
   "cell_type": "code",
   "execution_count": 9,
   "metadata": {},
   "outputs": [],
   "source": [
    "import random\n",
    "import numpy as np\n",
    "\n",
    "#Devuelve la distancia entre 2 vectores.\n",
    "def distance(v1,v2):\n",
    "  return np.linalg.norm(v1 - v2)"
   ]
  },
  {
   "cell_type": "code",
   "execution_count": 10,
   "metadata": {},
   "outputs": [],
   "source": [
    "# Inicialice los k centroides tomando aleatoriamente k elementos de los datos para que cada\n",
    "# centroide tenga una ubicación inicial en el espacio de características.\n",
    "def Init_Centroide(data, k):\n",
    "    centroides = set()\n",
    "    num_pixels = data.shape[0]\n",
    "\n",
    "    while len(centroides) < k:\n",
    "        rand_index = np.random.randint(0, num_pixels)\n",
    "        centroid = tuple(data[rand_index])\n",
    "        centroides.add(centroid)\n",
    "        centroides_iniciales = np.array(list(centroides))\n",
    "    return centroides_iniciales"
   ]
  },
  {
   "cell_type": "code",
   "execution_count": 11,
   "metadata": {},
   "outputs": [],
   "source": [
    "# Dado que los grupos se han formado previamente, se pueden obtener nuevos\n",
    "# centroides calculando el vector promedio de cada grupo.\n",
    "\n",
    "def return_new_centroide(grupos, data,k):\n",
    "    new_centroids = []\n",
    "    for i in range(k):\n",
    "        points_in_cluster = data[grupos == i]\n",
    "        if len(points_in_cluster) == 0:\n",
    "            new_centroid = data[np.random.choice(data.shape[0], 1, replace=False)]\n",
    "        else:\n",
    "            new_centroid = np.mean(points_in_cluster, axis=0)\n",
    "        print(f\"New centroid for cluster {i}: {new_centroid}\")\n",
    "        new_centroids.append(new_centroid)\n",
    "    return np.array(new_centroids, dtype=object)"
   ]
  },
  {
   "cell_type": "code",
   "execution_count": 12,
   "metadata": {},
   "outputs": [],
   "source": [
    "# La función devuelve un vector de números entre 0 y k-1, donde cada valor indica la clase\n",
    "# a la que pertenece cada elemento del dataset.\n",
    "def get_cluster(data, centroids):\n",
    "    clusters = np.zeros(len(data))\n",
    "    for i in range(len(data)):\n",
    "        distances = [distance(data[i], centroid) for centroid in centroids]\n",
    "        cluster = np.argmin(distances)\n",
    "        clusters[i] = cluster\n",
    "    return clusters"
   ]
  },
  {
   "cell_type": "code",
   "execution_count": 13,
   "metadata": {},
   "outputs": [],
   "source": [
    "# Halla la distancia promedio entre los antiguos centroides y los nuevos centroides para evaluar\n",
    "# la convergencia del algoritmo K-Means y determinar si se debe continuar con la iteración.\n",
    "def distancia_promedio_centroides(old_centroide, new_centroide):\n",
    "    suma_d= 0\n",
    "    if old_centroide.shape != new_centroide.shape:\n",
    "        raise ValueError(\"Las dimensiones deben coincidir\")\n",
    "    for i in range(old_centroide.shape[0]):\n",
    "        suma_d += distance(old_centroide[i], new_centroide[i])\n",
    "    return suma_d / old_centroide.shape[0]"
   ]
  },
  {
   "cell_type": "code",
   "execution_count": 14,
   "metadata": {},
   "outputs": [],
   "source": [
    "# Este es el algoritmo K-Means. Debe retornar los centroides y los clusters\n",
    "# generados para poder utilizarlos en análisis posteriores.\n",
    "def kmeans(data, k, umbral):\n",
    "  centroides =  Init_Centroide(data,k)\n",
    "  clusters   =  get_cluster(data,centroides)\n",
    "  new_centroides = return_new_centroide(clusters, data,k)\n",
    "  print(\"old\", centroides)\n",
    "  print(\"new\", new_centroides)\n",
    "  while(distancia_promedio_centroides(centroides, new_centroides) > umbral):\n",
    "     print(\"CENTROIDES\", centroides,distancia_promedio_centroides(centroides, new_centroides))\n",
    "     centroides = new_centroides\n",
    "     clusters   =  get_cluster(data,centroides)\n",
    "     new_centroides = return_new_centroide(clusters, data,k)\n",
    "\n",
    "  return new_centroides, clusters"
   ]
  },
  {
   "cell_type": "code",
   "execution_count": 15,
   "metadata": {},
   "outputs": [],
   "source": [
    "# A cada imagen le corresponde un único valor de cluster, y a cada cluster se le asigna un color. Luego, grafique la imagen\n",
    "# recoloreando los píxeles según el cluster al que pertenecen.\n",
    "import numpy as np\n",
    "from matplotlib.pyplot import imshow\n",
    "\n",
    "def Show_Imagen(imagen, cluster):\n",
    "    cluster = cluster.astype(int)  # Convertir el cluster a tipo entero\n",
    "    num_clusters = len(np.unique(cluster))\n",
    "    colors = np.random.randint(0, 255, size=(num_clusters, 3))\n",
    "    colored_image = colors[cluster]\n",
    "    plt.axis('off')\n",
    "    imshow(colored_image)"
   ]
  },
  {
   "cell_type": "code",
   "execution_count": 16,
   "metadata": {},
   "outputs": [
    {
     "name": "stdout",
     "output_type": "stream",
     "text": [
      "New centroid for cluster 0: [-3.24177700e+00  4.75331284e-03 -4.23742973e-02 -4.79142934e-02\n",
      " -6.24295464e-03 -2.07500484e-02 -2.06706728e-02 -2.49101774e-02\n",
      " -3.42200187e-03 -2.51416482e-03]\n",
      "New centroid for cluster 1: [ 1.92555465e+00 -1.50373310e-02  6.28792527e-03 -5.63806949e-03\n",
      "  3.32973779e-03  1.01613050e-02  3.42529875e-03 -2.04172649e-04\n",
      " -1.14828266e-03 -1.28574599e-03]\n",
      "New centroid for cluster 2: [-1.2295951   0.01575673  0.00549885  0.02078179 -0.00193556 -0.00539835\n",
      "  0.00227343  0.00768879  0.00233605  0.00222138]\n",
      "old [[-3.65888028  0.03726959 -0.07975295 -0.05684088  0.01713577 -0.00545665\n",
      "  -0.0511998  -0.0299459  -0.0171715  -0.00536518]\n",
      " [ 1.015574   -0.4781688   0.27553218 -0.37930583 -0.03002427  0.76550825\n",
      "   0.63587263 -0.323041   -0.62899696 -0.01212129]\n",
      " [-1.6440749  -0.04615405 -0.00991034  0.03607165  0.07424706  0.11563053\n",
      "   0.05848186 -0.02005379  0.03014885  0.04313803]]\n",
      "new [[-3.2417770018809664 0.0047533128419032285 -0.04237429728818922\n",
      "  -0.047914293415676996 -0.006242954643027129 -0.020750048444529077\n",
      "  -0.020670672766595836 -0.02491017740821723 -0.003422001871053172\n",
      "  -0.0025141648154862607]\n",
      " [1.9255546454641272 -0.015037330956859859 0.0062879252692081165\n",
      "  -0.005638069487329333 0.0033297377869997836 0.010161305043328536\n",
      "  0.003425298754649663 -0.00020417264899078502 -0.0011482826602017607\n",
      "  -0.0012857459938262878]\n",
      " [-1.2295950987944761 0.01575673192977564 0.005498847688238134\n",
      "  0.020781788879115026 -0.0019355604600036324 -0.005398353781699678\n",
      "  0.00227343225847582 0.0076887869417658315 0.0023360476000235963\n",
      "  0.0022213799354142572]]\n"
     ]
    }
   ],
   "source": [
    "roids, clusters = kmeans(data_pca, 3, 4.5)new_cent"
   ]
  },
  {
   "cell_type": "code",
   "execution_count": 17,
   "metadata": {},
   "outputs": [
    {
     "data": {
      "image/png": "[encoded data removed]",
      "text/plain": [
       "<Figure size 640x480 with 1 Axes>"
      ]
     },
     "metadata": {},
     "output_type": "display_data"
    }
   ],
   "source": [
    "import matplotlib.pyplot as plt\n",
    "import numpy as np\n",
    "\n",
    "# Crear una lista de colores para cada clúster\n",
    "num_clusters = len(np.unique(clusters))\n",
    "colors = plt.cm.jet(np.linspace(0, 1, num_clusters))\n",
    "\n",
    "# Graficar los datos en el espacio PCA y colorearlos según el clúster al que pertenecen\n",
    "for cluster_id in range(num_clusters):\n",
    "    plt.scatter(data_pca[clusters == cluster_id, 0], data_pca[clusters == cluster_id, 1], label=f'Cluster {cluster_id+1}', c=[colors[cluster_id]])\n",
    "\n",
    "# Agregar etiquetas y leyenda\n",
    "plt.xlabel('Componente Principal 1')\n",
    "plt.ylabel('Componente Principal 2')\n",
    "plt.legend()\n",
    "plt.title('Resultados de K-Means Clustering en Datos PCA')\n",
    "\n",
    "plt.show()"
   ]
  }
 ],
 "metadata": {
  "kernelspec": {
   "display_name": "Python 3",
   "language": "python",
   "name": "python3"
  },
  "language_info": {
   "codemirror_mode": {
    "name": "ipython",
    "version": 3
   },
   "file_extension": ".py",
   "mimetype": "text/x-python",
   "name": "python",
   "nbconvert_exporter": "python",
   "pygments_lexer": "ipython3",
   "version": "3.10.0"
  }
 },
 "nbformat": 4,
 "nbformat_minor": 2
}
